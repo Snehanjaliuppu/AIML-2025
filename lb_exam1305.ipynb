{
  "nbformat": 4,
  "nbformat_minor": 0,
  "metadata": {
    "colab": {
      "provenance": [],
      "authorship_tag": "ABX9TyPfBacWXcGs1LBBpnHFovah",
      "include_colab_link": true
    },
    "kernelspec": {
      "name": "python3",
      "display_name": "Python 3"
    },
    "language_info": {
      "name": "python"
    }
  },
  "cells": [
    {
      "cell_type": "markdown",
      "metadata": {
        "id": "view-in-github",
        "colab_type": "text"
      },
      "source": [
        "<a href=\"https://colab.research.google.com/github/Snehanjaliuppu/AIML-2025/blob/main/lb_exam1305.ipynb\" target=\"_parent\"><img src=\"https://colab.research.google.com/assets/colab-badge.svg\" alt=\"Open In Colab\"/></a>"
      ]
    },
    {
      "cell_type": "code",
      "execution_count": 2,
      "metadata": {
        "colab": {
          "base_uri": "https://localhost:8080/"
        },
        "id": "gcfY2OhaN9_4",
        "outputId": "e1c894bb-5f52-434c-cad2-727d57987cf7"
      },
      "outputs": [
        {
          "output_type": "stream",
          "name": "stdout",
          "text": [
            "mean is: 68.2\n"
          ]
        }
      ],
      "source": [
        "values=[55,60,65,70,75,80,85]\n",
        "frequency=[8,20,25,18,12,10,7]\n",
        "sum_fx=sum(f*x for f,x in zip(frequency,values))\n",
        "sum_f=sum(frequency)\n",
        "mean=sum_fx/sum_f\n",
        "print(\"mean is:\",mean)"
      ]
    },
    {
      "cell_type": "code",
      "source": [
        "import numpy as np\n",
        "import pandas as pd\n",
        "data=[55,60,65,70,75,80,85]\n",
        "frequency=[8,20,25,18,12,10,7]\n",
        "df=pd.DataFrame({'data':data,'frequency':frequency})\n",
        "expanded_data=np.repeat(df['data'].values,df['frequency'].values)\n",
        "median=np.median(expanded_data)\n",
        "print(\"median is:\",median)"
      ],
      "metadata": {
        "colab": {
          "base_uri": "https://localhost:8080/"
        },
        "id": "1iDF9Oc6PDSN",
        "outputId": "5db43381-ce1d-4957-b5b6-dcd37e01e78f"
      },
      "execution_count": 3,
      "outputs": [
        {
          "output_type": "stream",
          "name": "stdout",
          "text": [
            "median is: 65.0\n"
          ]
        }
      ]
    }
  ]
}