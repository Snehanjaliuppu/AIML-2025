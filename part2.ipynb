{
  "nbformat": 4,
  "nbformat_minor": 0,
  "metadata": {
    "colab": {
      "provenance": [],
      "authorship_tag": "ABX9TyMEzrAAnc/dDSaa+NTtuy/E",
      "include_colab_link": true
    },
    "kernelspec": {
      "name": "python3",
      "display_name": "Python 3"
    },
    "language_info": {
      "name": "python"
    }
  },
  "cells": [
    {
      "cell_type": "markdown",
      "metadata": {
        "id": "view-in-github",
        "colab_type": "text"
      },
      "source": [
        "<a href=\"https://colab.research.google.com/github/Snehanjaliuppu/AIML-2025/blob/main/part2.ipynb\" target=\"_parent\"><img src=\"https://colab.research.google.com/assets/colab-badge.svg\" alt=\"Open In Colab\"/></a>"
      ]
    },
    {
      "cell_type": "code",
      "execution_count": null,
      "metadata": {
        "id": "ieC_ytZdD-Hd"
      },
      "outputs": [],
      "source": [
        "def alphabeta_search(game, state):\n",
        "#\"\"\"Search game to determine best action; use alpha−beta pruning.\n",
        "#\"\"Search al l the way to the leaves .\"\"\"\n",
        "  player = state.to_move\n",
        "def max_value(state , alpha , beta):\n",
        "  if game.is_terminal(state):\n",
        "    return game.utility(state , player), None\n",
        "    v, move = -infinity , None\n",
        "  for a in game.actions(state):\n",
        "    v2, _ = min_value(game.result(state , a), alpha , beta)\n",
        "  if v2 > v:\n",
        "    v, move = v2, a\n",
        "    alpha = max(alpha , v)\n",
        "  if v >= beta:\n",
        "    return v, move\n",
        "  return v, move\n",
        "def min_value(state , alpha , beta):\n",
        "  if game.is_terminal(state):\n",
        "    return game.utility(state , player), None\n",
        "    v, move = +infinity , None\n",
        "  for a in game.actions(state):\n",
        "    v2, _= max_value(game.result(state , a), alpha , beta)\n",
        "  if v2 < v:\n",
        "    v, move = v2, a\n",
        "    beta = min(beta , v)\n",
        "  if v <= alpha:\n",
        "    return v, move\n",
        "    return v, move\n",
        "  return max_value(state , -infinity , +infinity)"
      ]
    }
  ]
}