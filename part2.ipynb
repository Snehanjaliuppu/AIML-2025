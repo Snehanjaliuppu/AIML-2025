{
  "nbformat": 4,
  "nbformat_minor": 0,
  "metadata": {
    "colab": {
      "provenance": [],
      "authorship_tag": "ABX9TyMX1VledU2Ul+H3NBbQfUVb",
      "include_colab_link": true
    },
    "kernelspec": {
      "name": "python3",
      "display_name": "Python 3"
    },
    "language_info": {
      "name": "python"
    }
  },
  "cells": [
    {
      "cell_type": "markdown",
      "metadata": {
        "id": "view-in-github",
        "colab_type": "text"
      },
      "source": [
        "<a href=\"https://colab.research.google.com/github/Snehanjaliuppu/AIML-2025/blob/main/part2.ipynb\" target=\"_parent\"><img src=\"https://colab.research.google.com/assets/colab-badge.svg\" alt=\"Open In Colab\"/></a>"
      ]
    },
    {
      "cell_type": "code",
      "execution_count": 13,
      "metadata": {
        "id": "3q9SrpqB_CQT"
      },
      "outputs": [],
      "source": [
        "#Part - 2\n",
        "def minimax_search(game , state):\n",
        "#\"\"\"Search game tree to determine best move; return (value, move) pair.\"\"\"\n",
        "  player = state.to_move\n",
        "def max_value(state):\n",
        "  if game.is_terminal(state):\n",
        "    return game.utility(state , player), None\n",
        "  v, move = -infinity , None\n",
        "  for a in game.actions(state):\n",
        "    v2, _ = min_value(game.result(state , a))\n",
        "  if v2 > v:\n",
        "    v, move = v2, a\n",
        "    return v, move\n",
        "def min_value(state):\n",
        "  if game.is_terminal(state):\n",
        "    return game.utility(state , player), None\n",
        "    v, move = +infinity , None\n",
        "  for a in game.actions(state):\n",
        "    v2, _ = max_value(game.result(state , a))\n",
        "  if v2 < v:\n",
        "    v, move = v2, a\n",
        "    return v, move\n",
        "  return max_value(state)\n",
        "  infinity = math.inf"
      ]
    }
  ]
}