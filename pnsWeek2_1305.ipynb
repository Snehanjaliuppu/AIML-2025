{
  "nbformat": 4,
  "nbformat_minor": 0,
  "metadata": {
    "colab": {
      "provenance": [],
      "include_colab_link": true
    },
    "kernelspec": {
      "name": "python3",
      "display_name": "Python 3"
    },
    "language_info": {
      "name": "python"
    }
  },
  "cells": [
    {
      "cell_type": "markdown",
      "metadata": {
        "id": "view-in-github",
        "colab_type": "text"
      },
      "source": [
        "<a href=\"https://colab.research.google.com/github/Snehanjaliuppu/AIML-2025/blob/main/pnsWeek2_1305.ipynb\" target=\"_parent\"><img src=\"https://colab.research.google.com/assets/colab-badge.svg\" alt=\"Open In Colab\"/></a>"
      ]
    },
    {
      "cell_type": "markdown",
      "source": [],
      "metadata": {
        "id": "JVqFe2yfE0Xc"
      }
    },
    {
      "cell_type": "markdown",
      "source": [
        "1.The dataset below represents the ages of 500 people in a city:\n",
        "Data (Ages):\n",
        "Data: [45, 67, 89, 23, 45, 67, 89, 34, 56, 78, 90, 21, 45, 67, 89, 23, 45,\n",
        "56, 78, 34, 23, 45, 67, 89, 45, 67, 89, 12, 34, 56, 78, 90, 23, 45,\n",
        "67, 12, 34, 78, 45, 67, 89, 34, 56, 78, 90, 23, 56, 78, 89, 45, 12,\n",
        "67, 45, 78, 23, 45, 67, 89, 34, 45, 23, 78, 67, 89, 45, 67, 89, 12,\n",
        "34, 56, 78, 90, 23, 12, 34, 56, 78, 23, 45, 67, 89, 34, 45, 23, 45,\n",
        "67, 89, 12, 34, 56, 78, 90, 45, 23].\n",
        "• Use numpy and pandas to calculate the median and mode of the dataset.\n",
        "• Comment on the efficiency of your approach **bold text**"
      ],
      "metadata": {
        "id": "557e0rCPE3vh"
      }
    },
    {
      "cell_type": "code",
      "execution_count": null,
      "metadata": {
        "colab": {
          "base_uri": "https://localhost:8080/"
        },
        "id": "P4xTXX2K-Jp3",
        "outputId": "4125fd8a-8414-4142-c088-4a60b6eeb356"
      },
      "outputs": [
        {
          "output_type": "stream",
          "name": "stdout",
          "text": [
            "Mean of the sample data is: 54.744680851063826\n"
          ]
        }
      ],
      "source": [
        "import numpy as np\n",
        "data=[45, 67, 89, 23, 45, 67, 89, 34, 56, 78, 90, 21, 45, 67, 89, 23, 45,\n",
        "56, 78, 34, 23, 45, 67, 89, 45, 67, 89, 12, 34, 56, 78, 90, 23, 45,\n",
        "67, 12, 34, 78, 45, 67, 89, 34, 56, 78, 90, 23, 56, 78, 89, 45, 12,\n",
        "67, 45, 78, 23, 45, 67, 89, 34, 45, 23, 78, 67, 89, 45, 67, 89, 12,\n",
        "34, 56, 78, 90, 23, 12, 34, 56, 78, 23, 45, 67, 89, 34, 45, 23, 45,\n",
        "67, 89, 12, 34, 56, 78, 90, 45, 23]\n",
        "d=sum(data)\n",
        "l=len(data)\n",
        "mean=d/l\n",
        "print(\"Mean of the sample data is:\",mean)"
      ]
    },
    {
      "cell_type": "markdown",
      "source": [
        "2.The table below represents the scores of 2000 students in an exam and their corresponding\n",
        "frequencies:\n",
        "Scores (X): [10, 20, 30, 40, 50, 60, 70, 80, 90, 100]\n",
        "Frequency (F): [200, 350, 400, 300, 250, 200, 150, 80, 50, 20]\n",
        "• Use pandas to calculate the median and mode of this grouped data.\n",
        "• Write a Python function to handle grouped data calculations efficiently for large\n",
        "datasets. **bold text**\n",
        "1\n"
      ],
      "metadata": {
        "id": "RC2kpbt4_PZ5"
      }
    },
    {
      "cell_type": "code",
      "source": [
        "import numpy as np\n",
        "values = [10, 20, 30, 40, 50, 60, 70, 80, 90, 100]\n",
        "frequency = [200, 350, 400, 300, 250, 200, 150, 80, 50, 20]\n",
        "sum_fx = sum(f*v for f, v in zip(frequency,values))\n",
        "sum_f = sum(frequency)\n",
        "mean = sum_fx / sum_f\n",
        "print(\"Mean of the frequency distribution is:\", mean)"
      ],
      "metadata": {
        "colab": {
          "base_uri": "https://localhost:8080/"
        },
        "id": "FF2M7dMl_bMi",
        "outputId": "ee1c11da-e9e5-4a9b-d724-729867ded68a"
      },
      "execution_count": null,
      "outputs": [
        {
          "output_type": "stream",
          "name": "stdout",
          "text": [
            "Mean of the frequency distribution is: 40.45\n"
          ]
        }
      ]
    },
    {
      "cell_type": "markdown",
      "source": [
        "3.Grouped Data with Class Intervals\n",
        "The following table shows the income distribution of 1000 households (in $1000s):\n",
        "Income Range (Class Interval) Frequency\n",
        "0 − 20 50\n",
        "20 − 40 120\n",
        "40 − 60 200\n",
        "60 − 80 300\n",
        "80 − 100 220\n",
        "100 − 120 70\n",
        "120 − 140 40\n",
        "• Use Python to calculate the median and mode for the grouped data.\n",
        "• For mode, determine the modal class.\n",
        "2\n",
        "**bold text**"
      ],
      "metadata": {
        "id": "XHTVKH-SCE_2"
      }
    },
    {
      "cell_type": "markdown",
      "source": [],
      "metadata": {
        "id": "Eic75vCzB1r_"
      }
    },
    {
      "cell_type": "code",
      "source": [
        "class_intervals=[(0,20),(20,40),(40,60),(60,80),(80,100),(100,120),(120,140)]\n",
        "frequencies=[50,120,200,300,220,70,40]\n",
        "midpoints=[(first+last)/2 for first,last in class_intervals]\n",
        "print(\"midpoints are:\",midpoints)\n",
        "sum_fm=sum(f*m for f,m in zip(frequencies,midpoints))\n",
        "sum_f=sum(frequencies)\n",
        "mean=sum_fm/sum_f\n",
        "print(mean)\n"
      ],
      "metadata": {
        "colab": {
          "base_uri": "https://localhost:8080/"
        },
        "id": "n7Uzd-kjDOoF",
        "outputId": "d33ef1b7-1fb0-4b48-c3ff-b2798bab2725"
      },
      "execution_count": null,
      "outputs": [
        {
          "output_type": "stream",
          "name": "stdout",
          "text": [
            "midpoints are: [10.0, 30.0, 50.0, 70.0, 90.0, 110.0, 130.0]\n",
            "67.8\n"
          ]
        }
      ]
    },
    {
      "cell_type": "markdown",
      "source": [],
      "metadata": {
        "id": "sSkiEbFXExn-"
      }
    }
  ]
}