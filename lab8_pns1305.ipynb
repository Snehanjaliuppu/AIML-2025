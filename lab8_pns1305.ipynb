{
  "nbformat": 4,
  "nbformat_minor": 0,
  "metadata": {
    "colab": {
      "provenance": [],
      "authorship_tag": "ABX9TyOKarCdU+YkNp9Uq7wedAJX",
      "include_colab_link": true
    },
    "kernelspec": {
      "name": "python3",
      "display_name": "Python 3"
    },
    "language_info": {
      "name": "python"
    }
  },
  "cells": [
    {
      "cell_type": "markdown",
      "metadata": {
        "id": "view-in-github",
        "colab_type": "text"
      },
      "source": [
        "<a href=\"https://colab.research.google.com/github/Snehanjaliuppu/AIML-2025/blob/main/lab8_pns1305.ipynb\" target=\"_parent\"><img src=\"https://colab.research.google.com/assets/colab-badge.svg\" alt=\"Open In Colab\"/></a>"
      ]
    },
    {
      "cell_type": "code",
      "execution_count": 6,
      "metadata": {
        "colab": {
          "base_uri": "https://localhost:8080/"
        },
        "id": "QiAky-D6RZcp",
        "outputId": "1edd374f-2cf6-4ee1-c098-a33430750649"
      },
      "outputs": [
        {
          "output_type": "stream",
          "name": "stdout",
          "text": [
            "mean is: 8847.058823529413\n",
            "standard deviation is: 1835.0725733553343\n",
            "confidence interval is: [ 6860. 10400.]\n"
          ]
        }
      ],
      "source": [
        "import numpy as np\n",
        "data=[8800, 10000, 7000, 9900, 9950, 8200, 10100, 9000, 9700, 10800, 10000, 10250, 10300, 9900,\n",
        "4000, 6000, 6500]\n",
        "mean=sum(data)/len(data)\n",
        "print(\"mean is:\",mean)\n",
        "print(\"standard deviation is:\",np.std(data))\n",
        "confidence_interval = np.percentile(data, [17, 95])\n",
        "print(\"confidence interval is:\", confidence_interval)\n",
        "\n"
      ]
    },
    {
      "cell_type": "code",
      "source": [],
      "metadata": {
        "id": "NEl4N-p7SKqY"
      },
      "execution_count": null,
      "outputs": []
    }
  ]
}