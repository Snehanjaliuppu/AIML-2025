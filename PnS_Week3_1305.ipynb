{
  "nbformat": 4,
  "nbformat_minor": 0,
  "metadata": {
    "colab": {
      "provenance": [],
      "include_colab_link": true
    },
    "kernelspec": {
      "name": "python3",
      "display_name": "Python 3"
    },
    "language_info": {
      "name": "python"
    }
  },
  "cells": [
    {
      "cell_type": "markdown",
      "metadata": {
        "id": "view-in-github",
        "colab_type": "text"
      },
      "source": [
        "<a href=\"https://colab.research.google.com/github/Snehanjaliuppu/AIML-2025/blob/main/PnS_Week3_1305.ipynb\" target=\"_parent\"><img src=\"https://colab.research.google.com/assets/colab-badge.svg\" alt=\"Open In Colab\"/></a>"
      ]
    },
    {
      "cell_type": "markdown",
      "source": [
        "Question 1: Ungrouped Data\n",
        "Given the ungrouped dataset below, calculate the median and mode\n",
        "data=[12, 45, 67, 23, 45, 89, 45, 12, 33, 67, 67, 78, 45, 23, 23, 56, 89, 45, 33, 45]\n",
        "Tasks:\n",
        "1. Compute the median and mode using numpy.\n",
        "2. Compute the mode using pandas\n",
        "**bold text**\n"
      ],
      "metadata": {
        "id": "cu8R2ekv6nT8"
      }
    },
    {
      "cell_type": "code",
      "source": [
        "import numpy as np\n",
        "import pandas as pd\n",
        "data=[12, 45, 67, 23, 45, 89, 45, 12, 33, 67, 67, 78, 45, 23, 23, 56, 89, 45, 33, 45]\n",
        "median_numpy=np.median(data)\n",
        "mode_numpy=np.unique(data, return_counts=True)\n",
        "mode_pandas=pd.Series(data).mode() [0]\n",
        "median_numpy=np.median(data)\n",
        "mode_numpy=np.unique(data, return_counts=True)\n",
        "mode_pandas=pd.Series(data).mode() [0]\n",
        "median_pandas=pd.Series(data).median()\n",
        "print(median_numpy)\n",
        "print(mode_numpy)\n",
        "print(mode_pandas)\n",
        "\n"
      ],
      "metadata": {
        "colab": {
          "base_uri": "https://localhost:8080/"
        },
        "id": "l5HmSQ2f6ueO",
        "outputId": "c9fc3e1f-ce35-4fad-f646-ddd51d719972"
      },
      "execution_count": null,
      "outputs": [
        {
          "output_type": "stream",
          "name": "stdout",
          "text": [
            "45.0\n",
            "(array([12, 23, 33, 45, 56, 67, 78, 89]), array([2, 3, 2, 6, 1, 3, 1, 2]))\n",
            "45\n"
          ]
        }
      ]
    },
    {
      "cell_type": "markdown",
      "source": [],
      "metadata": {
        "id": "9yJOIagm6iSE"
      }
    },
    {
      "cell_type": "markdown",
      "source": [
        "Question 2:\n",
        "Grouped Data\n",
        "The following data shows the frequency of scores in a test:\n",
        "Score Frequency\n",
        "10 5\n",
        "20 8\n",
        "30 12\n",
        "40 15\n",
        "50 7\n",
        "Tasks:\n",
        "1. Compute the median and mode using numpy.\n",
        "2. Compute the mode using pandas. **bold text**\n",
        "\n"
      ],
      "metadata": {
        "id": "lb_jeh8NBvXj"
      }
    },
    {
      "cell_type": "code",
      "source": [
        "import pandas as pd\n",
        "import numpy as np\n",
        "data=[10,20,30,40,50]\n",
        "freq=[5,8,12,15,7]\n",
        "df=pd.DataFrame({'Data': data, 'Frequency': freq})\n",
        "median=np.median(df['Data'])\n",
        "mode=df['Data'].mode()[0]\n",
        "print(median)\n",
        "print(mode)\n",
        "\n",
        "\n"
      ],
      "metadata": {
        "colab": {
          "base_uri": "https://localhost:8080/"
        },
        "id": "sWY-9OUYGzyM",
        "outputId": "0f4134ba-4e98-4de6-ed12-21e3675d46d9"
      },
      "execution_count": null,
      "outputs": [
        {
          "output_type": "stream",
          "name": "stdout",
          "text": [
            "30.0\n",
            "10\n"
          ]
        }
      ]
    },
    {
      "cell_type": "code",
      "source": [
        "import numpy as np\n",
        "import pandas as pd\n",
        "data=[12, 45, 67, 23, 45, 89, 45, 12, 33, 67, 67, 78, 45, 23, 23, 56, 89, 45, 33, 45]\n",
        "median_numpy=np.median(data)\n",
        "mode_numpy=np.unique(data, return_counts=True)\n",
        "mode_pandas=pd.Series(data).mode() [0]\n",
        "median_numpy=np.median(data)\n",
        "mode_numpy=np.unique(data, return_counts=True)\n",
        "mode_pandas=pd.Series(data).mode() [0]\n",
        "median_pandas=pd.Series(data).median()\n",
        "print(median_numpy)\n",
        "print(mode_numpy)\n",
        "print(mode_pandas)"
      ],
      "metadata": {
        "colab": {
          "base_uri": "https://localhost:8080/"
        },
        "id": "4JP6X_ION9Kb",
        "outputId": "511d6dce-ab59-46af-b5ad-a79590b69c08"
      },
      "execution_count": null,
      "outputs": [
        {
          "output_type": "stream",
          "name": "stdout",
          "text": [
            "45.0\n",
            "(array([12, 23, 33, 45, 56, 67, 78, 89]), array([2, 3, 2, 6, 1, 3, 1, 2]))\n",
            "45\n"
          ]
        }
      ]
    },
    {
      "cell_type": "code",
      "source": [],
      "metadata": {
        "id": "PlkfHuUAN9EY"
      },
      "execution_count": null,
      "outputs": []
    }
  ]
}