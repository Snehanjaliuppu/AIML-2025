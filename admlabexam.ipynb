{
  "nbformat": 4,
  "nbformat_minor": 0,
  "metadata": {
    "colab": {
      "provenance": [],
      "authorship_tag": "ABX9TyNQvV7purJWvp06O+c812Wb",
      "include_colab_link": true
    },
    "kernelspec": {
      "name": "python3",
      "display_name": "Python 3"
    },
    "language_info": {
      "name": "python"
    }
  },
  "cells": [
    {
      "cell_type": "markdown",
      "metadata": {
        "id": "view-in-github",
        "colab_type": "text"
      },
      "source": [
        "<a href=\"https://colab.research.google.com/github/Snehanjaliuppu/AIML-2025/blob/main/admlabexam.ipynb\" target=\"_parent\"><img src=\"https://colab.research.google.com/assets/colab-badge.svg\" alt=\"Open In Colab\"/></a>"
      ]
    },
    {
      "cell_type": "code",
      "execution_count": 5,
      "metadata": {
        "colab": {
          "base_uri": "https://localhost:8080/"
        },
        "id": "iNd8oZqv5j8O",
        "outputId": "4c95668e-e894-4a51-8695-8ada0c64623f"
      },
      "outputs": [
        {
          "output_type": "stream",
          "name": "stdout",
          "text": [
            "0    28.0\n",
            "2    22.0\n",
            "dtype: float64\n"
          ]
        }
      ],
      "source": [
        "import numpy as np\n",
        "import pandas as pd\n",
        "student_age=([28,np.nan,22,np.nan])\n",
        "student_age_series=pd.Series(student_age)\n",
        "df=student_age_series.fillna(0)\n",
        "df=student_age_series.dropna()\n",
        "print(df)\n"
      ]
    },
    {
      "cell_type": "code",
      "source": [
        "import numpy as np\n",
        "import pandas as pd\n",
        "data=student_age_series.dropna()\n",
        "df=data.drop_duplicates()\n",
        "print(df)\n",
        "\n"
      ],
      "metadata": {
        "colab": {
          "base_uri": "https://localhost:8080/"
        },
        "id": "WRm-hf7L6U3x",
        "outputId": "887e5def-3902-4d61-9e07-2dfd1cf3de24"
      },
      "execution_count": 7,
      "outputs": [
        {
          "output_type": "stream",
          "name": "stdout",
          "text": [
            "0    28.0\n",
            "2    22.0\n",
            "dtype: float64\n"
          ]
        }
      ]
    },
    {
      "cell_type": "code",
      "source": [
        "import numpy as np\n",
        "import pandas as pd\n",
        "city_column=['numerical_lables']\n",
        "df=pd.DataFrame(city_column,columns=['numerical_lables'])\n",
        "print(df)"
      ],
      "metadata": {
        "colab": {
          "base_uri": "https://localhost:8080/"
        },
        "id": "yUCycCNj6qtF",
        "outputId": "00abcdeb-4913-47ec-b1ae-b021f2ae004e"
      },
      "execution_count": 9,
      "outputs": [
        {
          "output_type": "stream",
          "name": "stdout",
          "text": [
            "   numerical_lables\n",
            "0  numerical_lables\n"
          ]
        }
      ]
    },
    {
      "cell_type": "code",
      "source": [
        "import numpy as np\n",
        "import pandas as pd\n",
        "import matplotlib.pyplot as plt\n",
        "age_column=[[28,22,30]]\n",
        "plt.bar(range(len(age_column[0])), age_column[0])\n",
        "plt.xlabel(\"Index\")\n",
        "plt.ylabel(\"Age\")\n",
        "plt.title(\"Age Bar Plot\")\n",
        "plt.show()\n"
      ],
      "metadata": {
        "colab": {
          "base_uri": "https://localhost:8080/",
          "height": 472
        },
        "id": "5EszfU9Q6-Xm",
        "outputId": "2dc211b0-b9ec-40b9-909e-1b113f65774d"
      },
      "execution_count": 11,
      "outputs": [
        {
          "output_type": "display_data",
          "data": {
            "text/plain": [
              "<Figure size 640x480 with 1 Axes>"
            ],
            "image/png": "[encoded data removed]"
          },
          "metadata": {}
        }
      ]
    },
    {
      "cell_type": "code",
      "source": [],
      "metadata": {
        "id": "o5gPcpWL7Ppx"
      },
      "execution_count": null,
      "outputs": []
    }
  ]
}