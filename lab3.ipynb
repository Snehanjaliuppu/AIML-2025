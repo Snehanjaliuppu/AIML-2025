{
  "nbformat": 4,
  "nbformat_minor": 0,
  "metadata": {
    "colab": {
      "provenance": [],
      "authorship_tag": "ABX9TyNDD4kviYFMCGhfGSfLGkAy",
      "include_colab_link": true
    },
    "kernelspec": {
      "name": "python3",
      "display_name": "Python 3"
    },
    "language_info": {
      "name": "python"
    }
  },
  "cells": [
    {
      "cell_type": "markdown",
      "metadata": {
        "id": "view-in-github",
        "colab_type": "text"
      },
      "source": [
        "<a href=\"https://colab.research.google.com/github/Snehanjaliuppu/AIML-2025/blob/main/lab3.ipynb\" target=\"_parent\"><img src=\"https://colab.research.google.com/assets/colab-badge.svg\" alt=\"Open In Colab\"/></a>"
      ]
    },
    {
      "cell_type": "code",
      "execution_count": 1,
      "metadata": {
        "id": "EFaK2mEwMJTs"
      },
      "outputs": [],
      "source": [
        "def random_player (game , state ):return random.choice(list(game.actions(state)))\n",
        "\n",
        "def player( search_algorithm ):\n",
        " \"\"\"A game player who uses the specified search algorithm\"\"\"\n",
        " return lambda game , state: search_algorithm (game , state )[1]"
      ]
    }
  ]
}